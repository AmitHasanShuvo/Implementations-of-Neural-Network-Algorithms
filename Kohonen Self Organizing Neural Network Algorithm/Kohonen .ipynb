{
 "cells": [
  {
   "cell_type": "markdown",
   "metadata": {},
   "source": [
    "## Author: Kazi Amit Hasan\n",
    "## Roll: 1503089"
   ]
  },
  {
   "cell_type": "code",
   "execution_count": 29,
   "metadata": {},
   "outputs": [],
   "source": [
    "import math\n",
    "import sys"
   ]
  },
  {
   "cell_type": "code",
   "execution_count": 30,
   "metadata": {},
   "outputs": [],
   "source": [
    "MAX_CLUSTERS = 2\n",
    "VECTORS = 4\n",
    "VEC_LEN = 4\n",
    "DECAY_RATE = 0.96\n",
    "MIN_ALPHA = 0.001"
   ]
  },
  {
   "cell_type": "code",
   "execution_count": 31,
   "metadata": {},
   "outputs": [],
   "source": [
    "training_patterns = [[1, 1, 0, 0],\n",
    "                     [0, 0, 0, 1],\n",
    "                     [1, 0, 0, 0],\n",
    "                     [0, 0, 1, 1]]\n",
    "\n",
    "tests = [[1, 0, 0, 1],\n",
    "         [0, 1, 1, 0],\n",
    "         [1, 0, 1, 0],\n",
    "         [0, 1, 0, 0]]"
   ]
  },
  {
   "cell_type": "code",
   "execution_count": 32,
   "metadata": {},
   "outputs": [],
   "source": [
    "class SOM_Class1:\n",
    "    def __init__(self, numVectors, maxClusters, alphaStart, minimumAlpha, decayRate, vectorLength):\n",
    "        self.mVectors = numVectors\n",
    "        self.mVecLen = vectorLength\n",
    "        self.mAlpha = alphaStart\n",
    "        self.minAlpha = minimumAlpha\n",
    "        self.decayRate = decayRate\n",
    "        self.mIterations = 0\n",
    "        self.maxClusters = maxClusters\n",
    "        self.mD = [[]] * maxClusters\n",
    "        self.w = [[0.2, 0.6, 0.5, 0.9],\n",
    "                  [0.8, 0.4, 0.7, 0.3]]\n",
    "    \n",
    "    def compute_input(self, vectorNumber, trainingTests):\n",
    "        self.mD[0] = 0.0\n",
    "        self.mD[1] = 0.0\n",
    "        \n",
    "        for i in range(self.maxClusters):\n",
    "            for j in range(self.mVectors):\n",
    "                self.mD[i] += math.pow((self.w[i][j] - trainingTests[vectorNumber][j]), 2)\n",
    "        \n",
    "        return\n",
    "    \n",
    "    def train(self, patterns, trainingTests):\n",
    "        self.mIterations = 0\n",
    "        \n",
    "        while self.mAlpha > self.minAlpha:\n",
    "            self.mIterations += 1\n",
    "            for i in range(self.mVectors):\n",
    "                self.compute_input(i, trainingTests)\n",
    "                \n",
    "                # See which is smaller, mD(0) or mD(1)?\n",
    "                dMin = 1 if self.mD[0] > self.mD[1] else 0\n",
    "                \n",
    "                # Update the weights on the winning unit.\n",
    "                for j in range(self.mVectors):\n",
    "                    self.w[dMin][j] = self.w[dMin][j] + (self.mAlpha * (patterns[i][j] - self.w[dMin][j]))\n",
    "            \n",
    "            # Reduce the learning rate.\n",
    "            self.mAlpha = self.decayRate * self.mAlpha\n",
    "        \n",
    "        return\n",
    "    \n",
    "    def test(self, patterns, trainingTests):\n",
    "        # Print clusters created.\n",
    "        sys.stdout.write(\"Clusters for training input:\\n\")\n",
    "        \n",
    "        for i in range(self.mVectors):\n",
    "            self.compute_input(i, trainingTests)\n",
    "            \n",
    "            dMin = 1 if self.mD[0] > self.mD[1] else 0\n",
    "            \n",
    "            sys.stdout.write(\"\\nVector ( \")\n",
    "            \n",
    "            for j in range(self.mVectors):\n",
    "                sys.stdout.write(str(patterns[i][j]) + \", \")\n",
    "            \n",
    "            sys.stdout.write(\") falls into category \" + str(dMin) + \"\\n\")\n",
    "        \n",
    "        # Print weight matrix.\n",
    "        sys.stdout.write(\"\\n\")\n",
    "        for i in range(self.maxClusters):\n",
    "            sys.stdout.write(\"Weights for Node \" + str(i) + \" connections:\\n\")\n",
    "            \n",
    "            for j in range(self.mVecLen):\n",
    "                sys.stdout.write(\"{:03.3f}\".format(self.w[i][j]) + \", \")\n",
    "            \n",
    "            sys.stdout.write(\"\\n\\n\")\n",
    "        \n",
    "        # Print post-training tests.\n",
    "        sys.stdout.write(\"Categorized test input:\\n\")\n",
    "        for i in range(self.mVectors):\n",
    "            self.compute_input(i, trainingTests)\n",
    "            \n",
    "            dMin = 1 if self.mD[0] > self.mD[1] else 0\n",
    "            \n",
    "            sys.stdout.write(\"\\nVector ( \")\n",
    "            \n",
    "            for j in range(self.mVectors):\n",
    "                sys.stdout.write(str(trainingTests[i][j]) + \", \")\n",
    "            \n",
    "            sys.stdout.write(\") falls into category \" + str(dMin) + \"\\n\")\n",
    "        \n",
    "        return\n",
    "    \n",
    "    def get_iterations(self):\n",
    "        return self.mIterations\n"
   ]
  },
  {
   "cell_type": "code",
   "execution_count": 34,
   "metadata": {},
   "outputs": [
    {
     "name": "stdout",
     "output_type": "stream",
     "text": [
      "Clusters for training input:\n",
      "\n",
      "Vector ( 1, 1, 0, 0, ) falls into category 0\n",
      "\n",
      "Vector ( 0, 0, 0, 1, ) falls into category 1\n",
      "\n",
      "Vector ( 1, 0, 0, 0, ) falls into category 0\n",
      "\n",
      "Vector ( 0, 0, 1, 1, ) falls into category 1\n",
      "\n",
      "Weights for Node 0 connections:\n",
      "0.495, 0.244, 0.255, 0.505, \n",
      "\n",
      "Weights for Node 1 connections:\n",
      "0.494, 0.245, 0.256, 0.506, \n",
      "\n",
      "Categorized test input:\n",
      "\n",
      "Vector ( 1, 0, 0, 1, ) falls into category 0\n",
      "\n",
      "Vector ( 0, 1, 1, 0, ) falls into category 1\n",
      "\n",
      "Vector ( 1, 0, 1, 0, ) falls into category 0\n",
      "\n",
      "Vector ( 0, 1, 0, 0, ) falls into category 1\n",
      "\n",
      "Iterations: 167\n"
     ]
    }
   ],
   "source": [
    "if __name__ == '__main__':\n",
    "    Alpha = 0.9\n",
    "    som = SOM_Class1(VECTORS, MAX_CLUSTERS, Alpha, MIN_ALPHA, DECAY_RATE, VEC_LEN)\n",
    "    som.train(training_patterns, tests)\n",
    "    som.test(training_patterns, tests)\n",
    "    \n",
    "    sys.stdout.write(\"\\nIterations: \" + str(som.get_iterations()) + \"\\n\")"
   ]
  },
  {
   "cell_type": "code",
   "execution_count": null,
   "metadata": {},
   "outputs": [],
   "source": []
  },
  {
   "cell_type": "code",
   "execution_count": null,
   "metadata": {},
   "outputs": [],
   "source": []
  },
  {
   "cell_type": "code",
   "execution_count": null,
   "metadata": {},
   "outputs": [],
   "source": []
  }
 ],
 "metadata": {
  "kernelspec": {
   "display_name": "Python 3",
   "language": "python",
   "name": "python3"
  },
  "language_info": {
   "codemirror_mode": {
    "name": "ipython",
    "version": 3
   },
   "file_extension": ".py",
   "mimetype": "text/x-python",
   "name": "python",
   "nbconvert_exporter": "python",
   "pygments_lexer": "ipython3",
   "version": "3.8.3"
  }
 },
 "nbformat": 4,
 "nbformat_minor": 4
}

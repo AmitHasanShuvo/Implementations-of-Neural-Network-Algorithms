{
 "cells": [
  {
   "cell_type": "markdown",
   "metadata": {},
   "source": [
    "# Author: Kazi Amit Hasan\n",
    "\n",
    "Department of Computer Science & Engineering, <br>\n",
    "Rajshahi University of Engineering & Technology (RUET) <br>\n",
    "Website: https://amithasanshuvo.github.io/ <br>\n",
    "ResearchGate: https://www.researchgate.net/profile/Kazi_Amit_Hasan <br>\n",
    "Linkedin: hhttps://www.linkedin.com/in/kazi-amit-hasan/ <br>\n",
    "Email: kaziamithasan89@gmail.com"
   ]
  },
  {
   "cell_type": "code",
   "execution_count": 1,
   "metadata": {
    "_uuid": "ed1f89fc8db6d221ef4780c32f3d55ee6d4ddae6"
   },
   "outputs": [],
   "source": [
    "%matplotlib inline\n",
    "\n",
    "import numpy as np\n",
    "from matplotlib import pyplot as plt"
   ]
  },
  {
   "cell_type": "markdown",
   "metadata": {
    "_uuid": "2e94697a6a0ba69c1a2d53263307d1fd15189dcd"
   },
   "source": [
    "### Implementation"
   ]
  },
  {
   "cell_type": "code",
   "execution_count": 2,
   "metadata": {
    "_uuid": "38b17f7c17628ad5da53345704c77ffc10375ab3"
   },
   "outputs": [],
   "source": [
    "class KNearestNeighbor(object):\n",
    "    def __init__(self, k=20):\n",
    "        self.k = k\n",
    "        \n",
    "    def fit(self, X, y):\n",
    "        # Store the original points\n",
    "        \n",
    "        self.X = X\n",
    "        self.y = y\n",
    "        \n",
    "        return self\n",
    "        \n",
    "    def predict(self, X, y=None):\n",
    "#         print(\"self.X:\", self.X)\n",
    "#         print(\"self.X.shape:\", self.X.shape)\n",
    "        \n",
    "        # Initialize a zero distance matrix\n",
    "        dists = np.zeros((X.shape[0], self.X.shape[0]))\n",
    "#         print(\"dists.shape:\", dists.shape)\n",
    "        \n",
    "        # Loop through all possible pairs and compute their distances\n",
    "        for i in range(dists.shape[0]):\n",
    "            for j in range(dists.shape[1]):\n",
    "#                 print(i, j, X[i], self.X[j])\n",
    "                dists[i, j] = self.distance(X[i], self.X[j])\n",
    "                \n",
    "#         print(\"dists:\", dists)\n",
    "        \n",
    "        # Sort the distance array row-wise, and select the top k indexes for each row\n",
    "        indexes = np.argsort(dists, axis=1)[:,:self.k]\n",
    "#         print(\"indexes:\", indexes)\n",
    "        \n",
    "        # Compute the mean of the values\n",
    "        mean = np.mean(self.y[indexes], axis=1)\n",
    "#         print(\"mean:\", mean)\n",
    "#         print(\"mean.shape:\", mean.shape)\n",
    "        \n",
    "        return mean\n",
    "                \n",
    "    def distance(self, x, y):\n",
    "        return np.sqrt(np.dot(x - y, x - y))"
   ]
  },
  {
   "cell_type": "markdown",
   "metadata": {
    "_uuid": "a09f94c8677ba4761380a9846ec4c31dacc92cd3"
   },
   "source": [
    "### Sample usage"
   ]
  },
  {
   "cell_type": "markdown",
   "metadata": {
    "_uuid": "a95b5b7527616144e6e0ad056e49191f80cc379d"
   },
   "source": [
    "Generate sample data"
   ]
  },
  {
   "cell_type": "code",
   "execution_count": 3,
   "metadata": {
    "_uuid": "a26b0c018c4a5c9f5b2f89328bd61f7e0d38dc10"
   },
   "outputs": [],
   "source": [
    "x = np.linspace(0, 5, 20)"
   ]
  },
  {
   "cell_type": "code",
   "execution_count": 4,
   "metadata": {
    "_uuid": "95c985a135c701fe850530d90d0fafaffaa34cdb"
   },
   "outputs": [],
   "source": [
    "m = 1.5\n",
    "c = 1\n",
    "y = m * x + c + np.random.normal(size=(20,))"
   ]
  },
  {
   "cell_type": "code",
   "execution_count": 5,
   "metadata": {
    "_uuid": "3119ddc23f4f5437d617ec37ba82de71861d1af6"
   },
   "outputs": [
    {
     "data": {
      "text/plain": [
       "[<matplotlib.lines.Line2D at 0x7ff2e9ebf5e0>]"
      ]
     },
     "execution_count": 5,
     "metadata": {},
     "output_type": "execute_result"
    },
    {
     "data": {
      "image/png": "[encoded data removed]",
      "text/plain": [
       "<Figure size 432x288 with 1 Axes>"
      ]
     },
     "metadata": {
      "needs_background": "light"
     },
     "output_type": "display_data"
    }
   ],
   "source": [
    "plt.plot(x, y, 'x')"
   ]
  },
  {
   "cell_type": "markdown",
   "metadata": {
    "_uuid": "3d0c8bf3056d41252e512ebeab474ab09784bdb7"
   },
   "source": [
    "Instantiate and fit model"
   ]
  },
  {
   "cell_type": "code",
   "execution_count": 6,
   "metadata": {
    "_uuid": "503dd36965cc6d76dac45eab88141f6a15ceed59"
   },
   "outputs": [],
   "source": [
    "model = KNearestNeighbor(k=3)"
   ]
  },
  {
   "cell_type": "code",
   "execution_count": 7,
   "metadata": {
    "_uuid": "966ee5d531cfbfe69973bc1ee10aa156c465e186"
   },
   "outputs": [
    {
     "data": {
      "text/plain": [
       "<__main__.KNearestNeighbor at 0x7ff2e9f21610>"
      ]
     },
     "execution_count": 7,
     "metadata": {},
     "output_type": "execute_result"
    }
   ],
   "source": [
    "model.fit(x, y)"
   ]
  },
  {
   "cell_type": "code",
   "execution_count": 8,
   "metadata": {
    "_uuid": "dd1d3946e01af49579b4d21f9896a959145bc36a"
   },
   "outputs": [],
   "source": [
    "# predicted = model.predict(x)\n",
    "predicted = model.predict(x.reshape(-1, 1))"
   ]
  },
  {
   "cell_type": "code",
   "execution_count": 9,
   "metadata": {
    "_uuid": "9c7042256cb6d802f9f3d657ba08d01f3280d5ea"
   },
   "outputs": [
    {
     "data": {
      "text/plain": [
       "<matplotlib.legend.Legend at 0x7ff2e9f21a90>"
      ]
     },
     "execution_count": 9,
     "metadata": {},
     "output_type": "execute_result"
    },
    {
     "data": {
      "image/png": "[encoded data removed]",
      "text/plain": [
       "<Figure size 432x288 with 1 Axes>"
      ]
     },
     "metadata": {
      "needs_background": "light"
     },
     "output_type": "display_data"
    }
   ],
   "source": [
    "plt.plot(\n",
    "    x, y, \"x\",\n",
    "    x, model.predict(x), \"-o\"\n",
    ")\n",
    "plt.legend([\"actual\", \"prediction\"])"
   ]
  },
  {
   "cell_type": "code",
   "execution_count": null,
   "metadata": {
    "_uuid": "989b358e144a58696760c6a7d1c4f73f9804c9d9"
   },
   "outputs": [],
   "source": []
  }
 ],
 "metadata": {
  "kernelspec": {
   "display_name": "Python 3",
   "language": "python",
   "name": "python3"
  },
  "language_info": {
   "codemirror_mode": {
    "name": "ipython",
    "version": 3
   },
   "file_extension": ".py",
   "mimetype": "text/x-python",
   "name": "python",
   "nbconvert_exporter": "python",
   "pygments_lexer": "ipython3",
   "version": "3.8.3"
  }
 },
 "nbformat": 4,
 "nbformat_minor": 4
}
